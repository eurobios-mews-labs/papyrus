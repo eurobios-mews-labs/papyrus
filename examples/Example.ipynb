{
 "cells": [
  {
   "cell_type": "code",
   "execution_count": 13,
   "id": "1bd7c965-3325-42d5-8771-9c350fa921e5",
   "metadata": {},
   "outputs": [
    {
     "data": {
      "text/plain": [
       "'C:\\\\Users\\\\Fatma\\\\Desktop\\\\Projets\\\\papyrus\\\\examples'"
      ]
     },
     "execution_count": 13,
     "metadata": {},
     "output_type": "execute_result"
    }
   ],
   "source": [
    "pwd"
   ]
  },
  {
   "cell_type": "code",
   "execution_count": 14,
   "id": "0ad3ca24-c625-4b23-889a-873af9c54fc7",
   "metadata": {},
   "outputs": [],
   "source": [
    "from papyrus import engine\n",
    "from papyrus.core.file import File"
   ]
  },
  {
   "cell_type": "markdown",
   "id": "4e2d4b22-84a6-4dc8-9da0-2e9af9cde6b3",
   "metadata": {},
   "source": [
    "### Download an open source pdf for testing"
   ]
  },
  {
   "cell_type": "code",
   "execution_count": 15,
   "id": "39c6cce9-6dc3-4946-a316-e544799c7a2c",
   "metadata": {},
   "outputs": [
    {
     "name": "stderr",
     "output_type": "stream",
     "text": [
      "  % Total    % Received % Xferd  Average Speed   Time    Time     Time  Current\n",
      "                                 Dload  Upload   Total   Spent    Left  Speed\n",
      "\n",
      "  0     0    0     0    0     0      0      0 --:--:-- --:--:-- --:--:--     0\n",
      "  0     0    0     0    0     0      0      0 --:--:-- --:--:-- --:--:--     0\n",
      "\n",
      "  0     0    0     0    0     0      0      0 --:--:-- --:--:-- --:--:--     0\n",
      "100 45009  100 45009    0     0  76971      0 --:--:-- --:--:-- --:--:--  167k\n"
     ]
    }
   ],
   "source": [
    "!curl -L -o invoice_100.pdf \"https://github.com/katanaml/sparrow-donut/raw/main/sparrow-data/docs/input/invoices/Dataset%20with%20valid%20information/invoice_100.pdf\"\n",
    "file_path = \"invoice_100.pdf\""
   ]
  },
  {
   "cell_type": "markdown",
   "id": "d224d226-465d-4f35-9de5-b9e10c24ae3b",
   "metadata": {},
   "source": [
    "# PDFPlumber extractor"
   ]
  },
  {
   "cell_type": "code",
   "execution_count": 16,
   "id": "ded91d4c-1155-4bb1-b7e5-879641864b33",
   "metadata": {},
   "outputs": [],
   "source": [
    "pdf_plumber = engine.PDFPlumberExtractor()"
   ]
  },
  {
   "cell_type": "markdown",
   "id": "d94a5a34-22f2-4d6c-8ce6-3428c7537743",
   "metadata": {},
   "source": [
    "### Extract text only "
   ]
  },
  {
   "cell_type": "code",
   "execution_count": 17,
   "id": "c2a75d5e-34cf-4f14-af76-6ed7f883192e",
   "metadata": {},
   "outputs": [
    {
     "name": "stderr",
     "output_type": "stream",
     "text": [
      "CropBox missing from /Page, defaulting to MediaBox\n",
      "CropBox missing from /Page, defaulting to MediaBox\n"
     ]
    }
   ],
   "source": [
    "file = File(file_path)\n",
    "file.extract(content=\"text\", extractor=pdf_plumber)"
   ]
  },
  {
   "cell_type": "markdown",
   "id": "b73eeb90-bdfa-45e8-837a-5b0aadc676a4",
   "metadata": {},
   "source": [
    "##### Print the result"
   ]
  },
  {
   "cell_type": "code",
   "execution_count": 18,
   "id": "9db59bd8-b245-489b-99d0-8d1600a4f2bd",
   "metadata": {},
   "outputs": [
    {
     "name": "stdout",
     "output_type": "stream",
     "text": [
      "Invoice no: 95611677\n",
      "Date of issue: 07/19/2016\n",
      "Seller: Client:\n",
      "Franco Group Johnson Group\n",
      "796 Arnold Cove Apt. 091 0693 Robin Mountain Apt. 180\n",
      "Reginaport, AZ 06940 Lake Christina, MI 87634\n",
      "Tax Id: 973-97-5084 Tax Id: 952-81-0165\n",
      "IBAN: GB95MPFV88552069556163\n",
      "ITEMS\n",
      "SUMMARY\n"
     ]
    }
   ],
   "source": [
    "print(file.text)"
   ]
  },
  {
   "cell_type": "markdown",
   "id": "8c10b2ab-1308-4bf6-bca1-3816a18cb3b4",
   "metadata": {},
   "source": [
    "##### Print the content of each page of the file "
   ]
  },
  {
   "cell_type": "code",
   "execution_count": 19,
   "id": "6affda01-24ef-41af-beab-998ec51f3929",
   "metadata": {},
   "outputs": [
    {
     "name": "stdout",
     "output_type": "stream",
     "text": [
      "Page 1\n",
      "Invoice no: 95611677\n",
      "Date of issue: 07/19/2016\n",
      "Seller: Client:\n",
      "Franco Group Johnson Group\n",
      "796 Arnold Cove Apt. 091 0693 Robin Mountain Apt. 180\n",
      "Reginaport, AZ 06940 Lake Christina, MI 87634\n",
      "Tax Id: 973-97-5084 Tax Id: 952-81-0165\n",
      "IBAN: GB95MPFV88552069556163\n",
      "ITEMS\n",
      "SUMMARY\n"
     ]
    }
   ],
   "source": [
    " for page_number in file.pages:\n",
    "    if isinstance(page_number, int):\n",
    "        print(f\"Page {page_number}\")\n",
    "        print(file.pages[page_number][\"text\"])"
   ]
  },
  {
   "cell_type": "markdown",
   "id": "02eed6f6-730c-487b-af40-620f33dedd18",
   "metadata": {},
   "source": [
    "##### Print tables "
   ]
  },
  {
   "cell_type": "code",
   "execution_count": 20,
   "id": "5cf2aa34-108a-40ef-b380-b3808ef5b4b4",
   "metadata": {},
   "outputs": [
    {
     "name": "stdout",
     "output_type": "stream",
     "text": [
      "[]\n"
     ]
    }
   ],
   "source": [
    "print(file.tables)"
   ]
  },
  {
   "cell_type": "markdown",
   "id": "55cc1cf8-3bea-4c41-9b00-86e4d376d375",
   "metadata": {},
   "source": [
    "##### Tables are empty because it was specified to extract only texts"
   ]
  },
  {
   "cell_type": "markdown",
   "id": "27ddaa6a-9565-4267-9288-ef04f82c50eb",
   "metadata": {},
   "source": [
    "### Extract only tables"
   ]
  },
  {
   "cell_type": "markdown",
   "id": "8fdb047b-c3af-4527-8a34-3c080223c16a",
   "metadata": {},
   "source": [
    "##### PDFPlumber allows to extract tables"
   ]
  },
  {
   "cell_type": "code",
   "execution_count": 21,
   "id": "85d20830-632f-4e01-9fe1-a088faba1e3c",
   "metadata": {},
   "outputs": [
    {
     "name": "stderr",
     "output_type": "stream",
     "text": [
      "CropBox missing from /Page, defaulting to MediaBox\n",
      "CropBox missing from /Page, defaulting to MediaBox\n"
     ]
    }
   ],
   "source": [
    "file.extract(content='tables', extractor=pdf_plumber)"
   ]
  },
  {
   "cell_type": "code",
   "execution_count": 22,
   "id": "4734d549-1003-4118-afb5-e7e643f6f9c5",
   "metadata": {},
   "outputs": [
    {
     "name": "stdout",
     "output_type": "stream",
     "text": [
      "[                                                   0\n",
      "0  No. Description Qty UM Net price Net worth VAT...\n",
      "1  1. Round Indian Braided Jute 5,00 each 49,99 2...\n",
      "2  2. Cartoon Rabbit Printed Round 4,00 each 177,...]\n"
     ]
    }
   ],
   "source": [
    "print(file.tables)"
   ]
  },
  {
   "cell_type": "markdown",
   "id": "67419393-ca2d-4613-825f-7ccc4b6594a2",
   "metadata": {},
   "source": [
    "### Extract both text and tables "
   ]
  },
  {
   "cell_type": "code",
   "execution_count": 23,
   "id": "0b5adb26-22b1-467a-a5d2-b69d84e99047",
   "metadata": {},
   "outputs": [
    {
     "name": "stderr",
     "output_type": "stream",
     "text": [
      "CropBox missing from /Page, defaulting to MediaBox\n",
      "CropBox missing from /Page, defaulting to MediaBox\n"
     ]
    }
   ],
   "source": [
    "file = File(file_path)\n",
    "file.extract(content='all', extractor =pdf_plumber)"
   ]
  },
  {
   "cell_type": "code",
   "execution_count": 24,
   "id": "c1b9e402-9cce-4096-ba8b-d9822b1402d1",
   "metadata": {},
   "outputs": [
    {
     "name": "stdout",
     "output_type": "stream",
     "text": [
      "Invoice no: 95611677\n",
      "Date of issue: 07/19/2016\n",
      "Seller: Client:\n",
      "Franco Group Johnson Group\n",
      "796 Arnold Cove Apt. 091 0693 Robin Mountain Apt. 180\n",
      "Reginaport, AZ 06940 Lake Christina, MI 87634\n",
      "Tax Id: 973-97-5084 Tax Id: 952-81-0165\n",
      "IBAN: GB95MPFV88552069556163\n",
      "ITEMS\n",
      "SUMMARY\n",
      "[                                                   0\n",
      "0  No. Description Qty UM Net price Net worth VAT...\n",
      "1  1. Round Indian Braided Jute 5,00 each 49,99 2...\n",
      "2  2. Cartoon Rabbit Printed Round 4,00 each 177,...]\n"
     ]
    }
   ],
   "source": [
    "print(file.text)\n",
    "print(file.tables)"
   ]
  },
  {
   "cell_type": "markdown",
   "id": "b1f59bee-bf4e-4ce4-9e89-7b581588f904",
   "metadata": {},
   "source": [
    "##### We can export text in format text or markdown and tables in markdown"
   ]
  },
  {
   "cell_type": "code",
   "execution_count": 25,
   "id": "080360df-5527-407c-a945-0d980766db53",
   "metadata": {},
   "outputs": [
    {
     "name": "stdout",
     "output_type": "stream",
     "text": [
      "Invoice no: 95611677\n",
      "Date of issue: 07/19/2016\n",
      "Seller: Client:\n",
      "Franco Group Johnson Group\n",
      "796 Arnold Cove Apt. 091 0693 Robin Mountain Apt. 180\n",
      "Reginaport, AZ 06940 Lake Christina, MI 87634\n",
      "Tax Id: 973-97-5084 Tax Id: 952-81-0165\n",
      "IBAN: GB95MPFV88552069556163\n",
      "ITEMS\n",
      "SUMMARY\n"
     ]
    }
   ],
   "source": [
    "txt = file.export(format='text', content='text')\n",
    "print(txt)"
   ]
  },
  {
   "cell_type": "code",
   "execution_count": 26,
   "id": "391a1a36-7739-4f2e-b5f4-ccf9a9017908",
   "metadata": {},
   "outputs": [
    {
     "name": "stdout",
     "output_type": "stream",
     "text": [
      "<!-- Page 1 - Table 1 -->\n",
      "\n",
      "| 0                                                                  |\n",
      "|:-------------------------------------------------------------------|\n",
      "| No. Description Qty UM Net price Net worth VAT [%] Gross           |\n",
      "| worth                                                              |\n",
      "| 1. Round Indian Braided Jute 5,00 each 49,99 249,95 10% 274,95     |\n",
      "| Carpet | Hand Woven Brown                                          |\n",
      "| Round Shape Living Room Rug                                        |\n",
      "| 2. Cartoon Rabbit Printed Round 4,00 each 177,08 708,32 10% 779,15 |\n",
      "| Carpet Area Rug Children Play                                      |\n",
      "| Tent Floor Mat Rug                                                 |\n",
      "\n",
      "\n"
     ]
    }
   ],
   "source": [
    "tables = file.export(format=\"md\", content='tables')\n",
    "print(tables)"
   ]
  },
  {
   "cell_type": "code",
   "execution_count": 27,
   "id": "b288927f-7a62-4241-a767-dd44f244bdc7",
   "metadata": {},
   "outputs": [
    {
     "name": "stdout",
     "output_type": "stream",
     "text": [
      "Invoice no: 95611677\n",
      "Date of issue: 07/19/2016\n",
      "Seller: Client:\n",
      "Franco Group Johnson Group\n",
      "796 Arnold Cove Apt. 091 0693 Robin Mountain Apt. 180\n",
      "Reginaport, AZ 06940 Lake Christina, MI 87634\n",
      "Tax Id: 973-97-5084 Tax Id: 952-81-0165\n",
      "IBAN: GB95MPFV88552069556163\n",
      "ITEMS\n",
      "SUMMARY\n",
      "\n",
      "<!-- Page 1 - Table 1 -->\n",
      "\n",
      "| 0                                                                  |\n",
      "|:-------------------------------------------------------------------|\n",
      "| No. Description Qty UM Net price Net worth VAT [%] Gross           |\n",
      "| worth                                                              |\n",
      "| 1. Round Indian Braided Jute 5,00 each 49,99 249,95 10% 274,95     |\n",
      "| Carpet | Hand Woven Brown                                          |\n",
      "| Round Shape Living Room Rug                                        |\n",
      "| 2. Cartoon Rabbit Printed Round 4,00 each 177,08 708,32 10% 779,15 |\n",
      "| Carpet Area Rug Children Play                                      |\n",
      "| Tent Floor Mat Rug                                                 |\n",
      "\n",
      "\n"
     ]
    }
   ],
   "source": [
    "both = file.export(format=\"md\", content='both')\n",
    "print(both)"
   ]
  },
  {
   "cell_type": "markdown",
   "id": "3ebac8a2-6f71-405d-bda8-0634d4f9cba5",
   "metadata": {},
   "source": [
    "# Docling extractor"
   ]
  },
  {
   "cell_type": "code",
   "execution_count": 28,
   "id": "e2006329-fa17-416d-8364-7fa7dfedd553",
   "metadata": {},
   "outputs": [],
   "source": [
    "docling = engine.DoclingExtractor()"
   ]
  },
  {
   "cell_type": "markdown",
   "id": "8b728143-f855-47ca-ae35-432fec7d13fa",
   "metadata": {},
   "source": [
    "### Extract text only"
   ]
  },
  {
   "cell_type": "code",
   "execution_count": 29,
   "id": "33bb26aa-3deb-4001-a32d-67371dd0e568",
   "metadata": {},
   "outputs": [
    {
     "name": "stderr",
     "output_type": "stream",
     "text": [
      "C:\\Users\\Fatma\\Desktop\\Projets\\papyrus\\.venv1\\Lib\\site-packages\\numpy\\_core\\fromnumeric.py:3860: RuntimeWarning: Mean of empty slice.\n",
      "  return _methods._mean(a, axis=axis, dtype=dtype,\n",
      "C:\\Users\\Fatma\\Desktop\\Projets\\papyrus\\.venv1\\Lib\\site-packages\\numpy\\_core\\_methods.py:145: RuntimeWarning: invalid value encountered in scalar divide\n",
      "  ret = ret.dtype.type(ret / rcount)\n",
      "C:\\Users\\Fatma\\Desktop\\Projets\\papyrus\\.venv1\\Lib\\site-packages\\docling\\pipeline\\standard_pdf_pipeline.py:262: RuntimeWarning: Mean of empty slice\n",
      "  np.nanmean(\n",
      "C:\\Users\\Fatma\\Desktop\\Projets\\papyrus\\.venv1\\Lib\\site-packages\\docling\\pipeline\\standard_pdf_pipeline.py:267: RuntimeWarning: Mean of empty slice\n",
      "  np.nanmean(\n",
      "Parameter `strict_text` has been deprecated and will be ignored.\n"
     ]
    }
   ],
   "source": [
    "file = File(file_path)\n",
    "file.extract(content='text', extractor=docling)"
   ]
  },
  {
   "cell_type": "code",
   "execution_count": 30,
   "id": "b58e1575-8970-40f3-93f5-513c1e843f44",
   "metadata": {},
   "outputs": [
    {
     "name": "stdout",
     "output_type": "stream",
     "text": [
      "## Invoice no: 95611677\n",
      "\n",
      "Date of issue:\n",
      "\n",
      "Date of issue:\n",
      "\n",
      "07/19/2016\n",
      "\n",
      "## Seller:\n",
      "\n",
      "## Client:\n",
      "\n",
      "Franco Group 796 Arnold Cove Apt. 091 Reginaport, AZ 06940\n",
      "\n",
      "Tax Id: 973-97-5084\n",
      "\n",
      "IBAN: GB95MPFV88552069556163\n",
      "\n",
      "Johnson Group 0693 Robin Mountain Apt. 180 Lake Christina, MI 87634\n",
      "\n",
      "Tax Id: 952-81-0165\n",
      "\n",
      "## ITEMS\n",
      "\n",
      "|   No. | Description                                                                     | Qty   | UM   | Net price   | Net worth   | VAT [%]   | Gross worth   |\n",
      "|-------|---------------------------------------------------------------------------------|-------|------|-------------|-------------|-----------|---------------|\n",
      "|     1 | Round Indian Braided Jute Carpet | Hand Woven Brown Round Shape Living Room Rug | 5,00  | each | 49,99       | 249,95      | 10%       | 274,95        |\n",
      "|     2 | Cartoon Rabbit Printed Round Carpet Area Rug Children Play Tent Floor Mat Rug   | 4,00  | each | 177,08      | 708,32      | 10%       | 779,15        |\n",
      "\n",
      "## SUMMARY\n",
      "\n",
      "| VAT [%]   | Net worth   | VAT     | Gross worth   |\n",
      "|-----------|-------------|---------|---------------|\n",
      "| 10%       | 958,27      | 95,83   | 1 054,10      |\n",
      "| Total     | $ 958,27    | $ 95,83 | $ 1 054,10    |\n"
     ]
    }
   ],
   "source": [
    "print(file.text)"
   ]
  },
  {
   "cell_type": "markdown",
   "id": "3e2e6a44-3628-4ea9-b08e-387b2a11afd4",
   "metadata": {},
   "source": [
    "### Extract tables only"
   ]
  },
  {
   "cell_type": "code",
   "execution_count": 31,
   "id": "186d2842-0015-494b-ba93-5a451e983d15",
   "metadata": {},
   "outputs": [
    {
     "name": "stderr",
     "output_type": "stream",
     "text": [
      "Parameter `strict_text` has been deprecated and will be ignored.\n"
     ]
    }
   ],
   "source": [
    "file = File(file_path)\n",
    "file.extract(content='tables', extractor=docling)"
   ]
  },
  {
   "cell_type": "code",
   "execution_count": 32,
   "id": "25d8679e-c4c5-4772-86ec-879e96efa585",
   "metadata": {},
   "outputs": [
    {
     "name": "stdout",
     "output_type": "stream",
     "text": [
      "[  No.                                        Description   Qty    UM  \\\n",
      "0  1.  Round Indian Braided Jute Carpet | Hand Woven ...  5,00  each   \n",
      "1  2.  Cartoon Rabbit Printed Round Carpet Area Rug C...  4,00  each   \n",
      "\n",
      "  Net price Net worth VAT [%] Gross worth  \n",
      "0     49,99    249,95     10%      274,95  \n",
      "1    177,08    708,32     10%      779,15  ,   VAT [%] Net worth      VAT Gross worth\n",
      "0     10%    958,27    95,83    1 054,10\n",
      "1   Total  $ 958,27  $ 95,83  $ 1 054,10]\n"
     ]
    }
   ],
   "source": [
    "print(file.tables)"
   ]
  },
  {
   "cell_type": "markdown",
   "id": "e95bba3a-3390-406e-a482-54cdda064a76",
   "metadata": {},
   "source": [
    "### Extract Both"
   ]
  },
  {
   "cell_type": "code",
   "execution_count": 33,
   "id": "502c9baa-f06d-49f2-a12f-59b14a75c0f0",
   "metadata": {},
   "outputs": [
    {
     "name": "stderr",
     "output_type": "stream",
     "text": [
      "C:\\Users\\Fatma\\Desktop\\Projets\\papyrus\\.venv1\\Lib\\site-packages\\numpy\\_core\\fromnumeric.py:3860: RuntimeWarning: Mean of empty slice.\n",
      "  return _methods._mean(a, axis=axis, dtype=dtype,\n",
      "C:\\Users\\Fatma\\Desktop\\Projets\\papyrus\\.venv1\\Lib\\site-packages\\numpy\\_core\\_methods.py:145: RuntimeWarning: invalid value encountered in scalar divide\n",
      "  ret = ret.dtype.type(ret / rcount)\n",
      "C:\\Users\\Fatma\\Desktop\\Projets\\papyrus\\.venv1\\Lib\\site-packages\\docling\\pipeline\\standard_pdf_pipeline.py:262: RuntimeWarning: Mean of empty slice\n",
      "  np.nanmean(\n",
      "C:\\Users\\Fatma\\Desktop\\Projets\\papyrus\\.venv1\\Lib\\site-packages\\docling\\pipeline\\standard_pdf_pipeline.py:267: RuntimeWarning: Mean of empty slice\n",
      "  np.nanmean(\n",
      "Parameter `strict_text` has been deprecated and will be ignored.\n"
     ]
    }
   ],
   "source": [
    "file.extract(content='all', extractor=docling)"
   ]
  },
  {
   "cell_type": "markdown",
   "id": "0474a8af-75b3-491d-b493-6454df03611e",
   "metadata": {},
   "source": [
    "### Export text and tables"
   ]
  },
  {
   "cell_type": "code",
   "execution_count": 34,
   "id": "640fdb19-c124-425e-a3a8-b8aa91c636ad",
   "metadata": {},
   "outputs": [
    {
     "name": "stdout",
     "output_type": "stream",
     "text": [
      "## Invoice no: 95611677\n",
      "\n",
      "Date of issue:\n",
      "\n",
      "Date of issue:\n",
      "\n",
      "07/19/2016\n",
      "\n",
      "## Seller:\n",
      "\n",
      "## Client:\n",
      "\n",
      "Franco Group 796 Arnold Cove Apt. 091 Reginaport, AZ 06940\n",
      "\n",
      "Tax Id: 973-97-5084\n",
      "\n",
      "IBAN: GB95MPFV88552069556163\n",
      "\n",
      "Johnson Group 0693 Robin Mountain Apt. 180 Lake Christina, MI 87634\n",
      "\n",
      "Tax Id: 952-81-0165\n",
      "\n",
      "## ITEMS\n",
      "\n",
      "|   No. | Description                                                                     | Qty   | UM   | Net price   | Net worth   | VAT [%]   | Gross worth   |\n",
      "|-------|---------------------------------------------------------------------------------|-------|------|-------------|-------------|-----------|---------------|\n",
      "|     1 | Round Indian Braided Jute Carpet | Hand Woven Brown Round Shape Living Room Rug | 5,00  | each | 49,99       | 249,95      | 10%       | 274,95        |\n",
      "|     2 | Cartoon Rabbit Printed Round Carpet Area Rug Children Play Tent Floor Mat Rug   | 4,00  | each | 177,08      | 708,32      | 10%       | 779,15        |\n",
      "\n",
      "## SUMMARY\n",
      "\n",
      "| VAT [%]   | Net worth   | VAT     | Gross worth   |\n",
      "|-----------|-------------|---------|---------------|\n",
      "| 10%       | 958,27      | 95,83   | 1 054,10      |\n",
      "| Total     | $ 958,27    | $ 95,83 | $ 1 054,10    |\n",
      "<!-- Page 0 - Table 1 -->\n",
      "\n",
      "|   No. | Description                                                                     | Qty   | UM   | Net price   | Net worth   | VAT [%]   | Gross worth   |\n",
      "|------:|:--------------------------------------------------------------------------------|:------|:-----|:------------|:------------|:----------|:--------------|\n",
      "|     1 | Round Indian Braided Jute Carpet | Hand Woven Brown Round Shape Living Room Rug | 5,00  | each | 49,99       | 249,95      | 10%       | 274,95        |\n",
      "|     2 | Cartoon Rabbit Printed Round Carpet Area Rug Children Play Tent Floor Mat Rug   | 4,00  | each | 177,08      | 708,32      | 10%       | 779,15        |\n",
      "\n",
      "\n",
      "\n",
      "<!-- Page 0 - Table 2 -->\n",
      "\n",
      "| VAT [%]   | Net worth   | VAT     | Gross worth   |\n",
      "|:----------|:------------|:--------|:--------------|\n",
      "| 10%       | 958,27      | 95,83   | 1 054,10      |\n",
      "| Total     | $ 958,27    | $ 95,83 | $ 1 054,10    |\n",
      "\n",
      "\n",
      "\n",
      "<!-- Page 0 - Table 3 -->\n",
      "\n",
      "|   No. | Description                                                                     | Qty   | UM   | Net price   | Net worth   | VAT [%]   | Gross worth   |\n",
      "|------:|:--------------------------------------------------------------------------------|:------|:-----|:------------|:------------|:----------|:--------------|\n",
      "|     1 | Round Indian Braided Jute Carpet | Hand Woven Brown Round Shape Living Room Rug | 5,00  | each | 49,99       | 249,95      | 10%       | 274,95        |\n",
      "|     2 | Cartoon Rabbit Printed Round Carpet Area Rug Children Play Tent Floor Mat Rug   | 4,00  | each | 177,08      | 708,32      | 10%       | 779,15        |\n",
      "\n",
      "\n",
      "\n",
      "<!-- Page 0 - Table 4 -->\n",
      "\n",
      "| VAT [%]   | Net worth   | VAT     | Gross worth   |\n",
      "|:----------|:------------|:--------|:--------------|\n",
      "| 10%       | 958,27      | 95,83   | 1 054,10      |\n",
      "| Total     | $ 958,27    | $ 95,83 | $ 1 054,10    |\n",
      "\n",
      "\n"
     ]
    }
   ],
   "source": [
    "text = file.export(format='md', content='text')\n",
    "print(text)\n",
    "tables = file.export(format='md', content='tables')\n",
    "print(tables)"
   ]
  },
  {
   "cell_type": "markdown",
   "id": "74c47069-f397-4604-b950-8d6f5ef305c6",
   "metadata": {},
   "source": [
    "# PyMuPDF Extractor"
   ]
  },
  {
   "cell_type": "code",
   "execution_count": 35,
   "id": "b80edfb8-6c22-4e28-b142-48da5767361f",
   "metadata": {},
   "outputs": [],
   "source": [
    "py_mu_pdf = engine.PyMuPDFExtractor()"
   ]
  },
  {
   "cell_type": "code",
   "execution_count": 36,
   "id": "f2c9e431-3d2c-4820-addd-e51834a4592b",
   "metadata": {},
   "outputs": [
    {
     "name": "stdout",
     "output_type": "stream",
     "text": [
      "Invoice no: 95611677\n",
      "Date of issue:\n",
      "07/19/2016\n",
      "Seller:\n",
      "Franco Group\n",
      "796 Arnold Cove Apt. 091\n",
      "Reginaport, AZ 06940\n",
      "Tax Id: 973-97-5084\n",
      "IBAN: GB95MPFV88552069556163\n",
      "Client:\n",
      "Johnson Group\n",
      "0693 Robin Mountain Apt. 180\n",
      "Lake Christina, MI 87634\n",
      "Tax Id: 952-81-0165\n",
      "ITEMS\n",
      "No.\n",
      "Description\n",
      "Qty\n",
      "UM\n",
      "Net price\n",
      "Net worth\n",
      "VAT [%]\n",
      "Gross\n",
      "worth\n",
      "Round Indian Braided Jute\n",
      "Carpet | Hand Woven Brown\n",
      "Round Shape Living Room Rug\n",
      "1.\n",
      "5,00\n",
      "each\n",
      "49,99\n",
      "249,95\n",
      "10%\n",
      "274,95\n",
      "Cartoon Rabbit Printed Round\n",
      "Carpet Area Rug Children Play\n",
      "Tent Floor Mat Rug\n",
      "2.\n",
      "4,00\n",
      "each\n",
      "177,08\n",
      "708,32\n",
      "10%\n",
      "779,15\n",
      "SUMMARY\n",
      "VAT [%]\n",
      "Net worth\n",
      "VAT\n",
      "Gross worth\n",
      "10%\n",
      "958,27\n",
      "95,83\n",
      "1 054,10\n",
      "Total\n",
      "$ 958,27\n",
      "$ 95,83\n",
      "$ 1 054,10\n"
     ]
    }
   ],
   "source": [
    "file = File(file_path)\n",
    "file.extract(content='text', extractor=py_mu_pdf)\n",
    "print(file.text)"
   ]
  },
  {
   "cell_type": "markdown",
   "id": "c391a934-6a93-4053-9356-ecad0f828d64",
   "metadata": {},
   "source": [
    "##### PyMuPDF Extractor allows only text extraction."
   ]
  },
  {
   "cell_type": "code",
   "execution_count": 37,
   "id": "2df2321a-9c88-4aa3-a263-e6f2f3990a4e",
   "metadata": {},
   "outputs": [
    {
     "name": "stdout",
     "output_type": "stream",
     "text": [
      "[]\n"
     ]
    }
   ],
   "source": [
    "file=File(file_path)\n",
    "file.extract(content='tables', extractor=py_mu_pdf)\n",
    "print(file.tables)"
   ]
  },
  {
   "cell_type": "code",
   "execution_count": 38,
   "id": "c0977469-5da4-4a8d-a970-408fffd98d9b",
   "metadata": {},
   "outputs": [
    {
     "name": "stdout",
     "output_type": "stream",
     "text": [
      "Invoice no: 95611677\n",
      "Date of issue:\n",
      "07/19/2016\n",
      "Seller:\n",
      "Franco Group\n",
      "796 Arnold Cove Apt. 091\n",
      "Reginaport, AZ 06940\n",
      "Tax Id: 973-97-5084\n",
      "IBAN: GB95MPFV88552069556163\n",
      "Client:\n",
      "Johnson Group\n",
      "0693 Robin Mountain Apt. 180\n",
      "Lake Christina, MI 87634\n",
      "Tax Id: 952-81-0165\n",
      "ITEMS\n",
      "No.\n",
      "Description\n",
      "Qty\n",
      "UM\n",
      "Net price\n",
      "Net worth\n",
      "VAT [%]\n",
      "Gross\n",
      "worth\n",
      "Round Indian Braided Jute\n",
      "Carpet | Hand Woven Brown\n",
      "Round Shape Living Room Rug\n",
      "1.\n",
      "5,00\n",
      "each\n",
      "49,99\n",
      "249,95\n",
      "10%\n",
      "274,95\n",
      "Cartoon Rabbit Printed Round\n",
      "Carpet Area Rug Children Play\n",
      "Tent Floor Mat Rug\n",
      "2.\n",
      "4,00\n",
      "each\n",
      "177,08\n",
      "708,32\n",
      "10%\n",
      "779,15\n",
      "SUMMARY\n",
      "VAT [%]\n",
      "Net worth\n",
      "VAT\n",
      "Gross worth\n",
      "10%\n",
      "958,27\n",
      "95,83\n",
      "1 054,10\n",
      "Total\n",
      "$ 958,27\n",
      "$ 95,83\n",
      "$ 1 054,10\n",
      "[]\n"
     ]
    }
   ],
   "source": [
    "file=File(file_path)\n",
    "file.extract(content='all', extractor=py_mu_pdf)\n",
    "print(file.text)\n",
    "print(file.tables)"
   ]
  },
  {
   "cell_type": "markdown",
   "id": "2e112b2a-3cf8-4ce2-a6b4-ba6daf0f64fa",
   "metadata": {},
   "source": [
    "##### Export text in text format"
   ]
  },
  {
   "cell_type": "code",
   "execution_count": 39,
   "id": "15351eca-d133-49f3-a3b8-8becca97dcd7",
   "metadata": {},
   "outputs": [
    {
     "name": "stdout",
     "output_type": "stream",
     "text": [
      "Invoice no: 95611677\n",
      "Date of issue:\n",
      "07/19/2016\n",
      "Seller:\n",
      "Franco Group\n",
      "796 Arnold Cove Apt. 091\n",
      "Reginaport, AZ 06940\n",
      "Tax Id: 973-97-5084\n",
      "IBAN: GB95MPFV88552069556163\n",
      "Client:\n",
      "Johnson Group\n",
      "0693 Robin Mountain Apt. 180\n",
      "Lake Christina, MI 87634\n",
      "Tax Id: 952-81-0165\n",
      "ITEMS\n",
      "No.\n",
      "Description\n",
      "Qty\n",
      "UM\n",
      "Net price\n",
      "Net worth\n",
      "VAT [%]\n",
      "Gross\n",
      "worth\n",
      "Round Indian Braided Jute\n",
      "Carpet | Hand Woven Brown\n",
      "Round Shape Living Room Rug\n",
      "1.\n",
      "5,00\n",
      "each\n",
      "49,99\n",
      "249,95\n",
      "10%\n",
      "274,95\n",
      "Cartoon Rabbit Printed Round\n",
      "Carpet Area Rug Children Play\n",
      "Tent Floor Mat Rug\n",
      "2.\n",
      "4,00\n",
      "each\n",
      "177,08\n",
      "708,32\n",
      "10%\n",
      "779,15\n",
      "SUMMARY\n",
      "VAT [%]\n",
      "Net worth\n",
      "VAT\n",
      "Gross worth\n",
      "10%\n",
      "958,27\n",
      "95,83\n",
      "1 054,10\n",
      "Total\n",
      "$ 958,27\n",
      "$ 95,83\n",
      "$ 1 054,10\n"
     ]
    }
   ],
   "source": [
    "text =file.export(format=\"text\", content='text')\n",
    "print(text)"
   ]
  },
  {
   "cell_type": "markdown",
   "id": "7595d95b-f66b-4868-85a9-3d57223acb20",
   "metadata": {},
   "source": [
    "##### Export tables in text format "
   ]
  },
  {
   "cell_type": "code",
   "execution_count": 40,
   "id": "20258561-ca90-4b1f-a986-2a2593f5e89e",
   "metadata": {},
   "outputs": [
    {
     "name": "stderr",
     "output_type": "stream",
     "text": [
      "Parameter `strict_text` has been deprecated and will be ignored.\n"
     ]
    },
    {
     "name": "stdout",
     "output_type": "stream",
     "text": [
      "## Invoice no: 95611677\n",
      "\n",
      "Date of issue:\n",
      "\n",
      "Date of issue:\n",
      "\n",
      "07/19/2016\n",
      "\n",
      "## Seller:\n",
      "\n",
      "## Client:\n",
      "\n",
      "Franco Group 796 Arnold Cove Apt. 091 Reginaport, AZ 06940\n",
      "\n",
      "Tax Id: 973-97-5084\n",
      "\n",
      "IBAN: GB95MPFV88552069556163\n",
      "\n",
      "Johnson Group 0693 Robin Mountain Apt. 180 Lake Christina, MI 87634\n",
      "\n",
      "Tax Id: 952-81-0165\n",
      "\n",
      "## ITEMS\n",
      "\n",
      "|   No. | Description                                                                     | Qty   | UM   | Net price   | Net worth   | VAT [%]   | Gross worth   |\n",
      "|-------|---------------------------------------------------------------------------------|-------|------|-------------|-------------|-----------|---------------|\n",
      "|     1 | Round Indian Braided Jute Carpet | Hand Woven Brown Round Shape Living Room Rug | 5,00  | each | 49,99       | 249,95      | 10%       | 274,95        |\n",
      "|     2 | Cartoon Rabbit Printed Round Carpet Area Rug Children Play Tent Floor Mat Rug   | 4,00  | each | 177,08      | 708,32      | 10%       | 779,15        |\n",
      "\n",
      "## SUMMARY\n",
      "\n",
      "| VAT [%]   | Net worth   | VAT     | Gross worth   |\n",
      "|-----------|-------------|---------|---------------|\n",
      "| 10%       | 958,27      | 95,83   | 1 054,10      |\n",
      "| Total     | $ 958,27    | $ 95,83 | $ 1 054,10    |\n"
     ]
    },
    {
     "name": "stderr",
     "output_type": "stream",
     "text": [
      "Parameter `strict_text` has been deprecated and will be ignored.\n"
     ]
    }
   ],
   "source": [
    "docling_extractor = engine.DoclingExtractor()\n",
    "file = File(file_path)\n",
    "file.extract(content='text', extractor=docling_extractor)\n",
    "print(file.text)\n",
    "file.extract(content='tables', extractor=docling_extractor)"
   ]
  },
  {
   "cell_type": "code",
   "execution_count": 41,
   "id": "c17566a5-935c-43cd-bb6f-4e5a3b63e678",
   "metadata": {},
   "outputs": [
    {
     "name": "stdout",
     "output_type": "stream",
     "text": [
      "[  No.                                        Description   Qty    UM  \\\n",
      "0  1.  Round Indian Braided Jute Carpet | Hand Woven ...  5,00  each   \n",
      "1  2.  Cartoon Rabbit Printed Round Carpet Area Rug C...  4,00  each   \n",
      "\n",
      "  Net price Net worth VAT [%] Gross worth  \n",
      "0     49,99    249,95     10%      274,95  \n",
      "1    177,08    708,32     10%      779,15  ,   VAT [%] Net worth      VAT Gross worth\n",
      "0     10%    958,27    95,83    1 054,10\n",
      "1   Total  $ 958,27  $ 95,83  $ 1 054,10]\n"
     ]
    }
   ],
   "source": [
    "print(file.tables)"
   ]
  },
  {
   "cell_type": "code",
   "execution_count": 42,
   "id": "7df1aaa4-900f-458d-b9ea-e40de4dfbce7",
   "metadata": {},
   "outputs": [],
   "source": [
    "txt = file.export(format=\"text\", content=\"text\")\n",
    "tables = file.export(format=\"text\", content=\"tables\")\n",
    "both = file.export(format=\"md\", content=\"both\")"
   ]
  },
  {
   "cell_type": "code",
   "execution_count": 43,
   "id": "9445a67c-ef39-4a89-8fb8-39255ee0b1a9",
   "metadata": {},
   "outputs": [
    {
     "name": "stdout",
     "output_type": "stream",
     "text": [
      "## Invoice no: 95611677\n",
      "\n",
      "Date of issue:\n",
      "\n",
      "Date of issue:\n",
      "\n",
      "07/19/2016\n",
      "\n",
      "## Seller:\n",
      "\n",
      "## Client:\n",
      "\n",
      "Franco Group 796 Arnold Cove Apt. 091 Reginaport, AZ 06940\n",
      "\n",
      "Tax Id: 973-97-5084\n",
      "\n",
      "IBAN: GB95MPFV88552069556163\n",
      "\n",
      "Johnson Group 0693 Robin Mountain Apt. 180 Lake Christina, MI 87634\n",
      "\n",
      "Tax Id: 952-81-0165\n",
      "\n",
      "## ITEMS\n",
      "\n",
      "|   No. | Description                                                                     | Qty   | UM   | Net price   | Net worth   | VAT [%]   | Gross worth   |\n",
      "|-------|---------------------------------------------------------------------------------|-------|------|-------------|-------------|-----------|---------------|\n",
      "|     1 | Round Indian Braided Jute Carpet | Hand Woven Brown Round Shape Living Room Rug | 5,00  | each | 49,99       | 249,95      | 10%       | 274,95        |\n",
      "|     2 | Cartoon Rabbit Printed Round Carpet Area Rug Children Play Tent Floor Mat Rug   | 4,00  | each | 177,08      | 708,32      | 10%       | 779,15        |\n",
      "\n",
      "## SUMMARY\n",
      "\n",
      "| VAT [%]   | Net worth   | VAT     | Gross worth   |\n",
      "|-----------|-------------|---------|---------------|\n",
      "| 10%       | 958,27      | 95,83   | 1 054,10      |\n",
      "| Total     | $ 958,27    | $ 95,83 | $ 1 054,10    |\n"
     ]
    }
   ],
   "source": [
    "print(txt)\n"
   ]
  },
  {
   "cell_type": "code",
   "execution_count": 44,
   "id": "4fcb9c1c-6c03-4739-8dd7-82f0dddf4fa6",
   "metadata": {},
   "outputs": [
    {
     "name": "stdout",
     "output_type": "stream",
     "text": [
      "<!-- Page 0 - Table 1 -->\n",
      "\n",
      "|   No. | Description                                                                     | Qty   | UM   | Net price   | Net worth   | VAT [%]   | Gross worth   |\n",
      "|------:|:--------------------------------------------------------------------------------|:------|:-----|:------------|:------------|:----------|:--------------|\n",
      "|     1 | Round Indian Braided Jute Carpet | Hand Woven Brown Round Shape Living Room Rug | 5,00  | each | 49,99       | 249,95      | 10%       | 274,95        |\n",
      "|     2 | Cartoon Rabbit Printed Round Carpet Area Rug Children Play Tent Floor Mat Rug   | 4,00  | each | 177,08      | 708,32      | 10%       | 779,15        |\n",
      "\n",
      "\n",
      "\n",
      "<!-- Page 0 - Table 2 -->\n",
      "\n",
      "| VAT [%]   | Net worth   | VAT     | Gross worth   |\n",
      "|:----------|:------------|:--------|:--------------|\n",
      "| 10%       | 958,27      | 95,83   | 1 054,10      |\n",
      "| Total     | $ 958,27    | $ 95,83 | $ 1 054,10    |\n",
      "\n",
      "\n"
     ]
    }
   ],
   "source": [
    "print(tables)\n"
   ]
  },
  {
   "cell_type": "code",
   "execution_count": 45,
   "id": "12c14734-0a03-455f-b909-7074c0ba0066",
   "metadata": {},
   "outputs": [
    {
     "name": "stdout",
     "output_type": "stream",
     "text": [
      "## Invoice no: 95611677\n",
      "\n",
      "Date of issue:\n",
      "\n",
      "Date of issue:\n",
      "\n",
      "07/19/2016\n",
      "\n",
      "## Seller:\n",
      "\n",
      "## Client:\n",
      "\n",
      "Franco Group 796 Arnold Cove Apt. 091 Reginaport, AZ 06940\n",
      "\n",
      "Tax Id: 973-97-5084\n",
      "\n",
      "IBAN: GB95MPFV88552069556163\n",
      "\n",
      "Johnson Group 0693 Robin Mountain Apt. 180 Lake Christina, MI 87634\n",
      "\n",
      "Tax Id: 952-81-0165\n",
      "\n",
      "## ITEMS\n",
      "\n",
      "|   No. | Description                                                                     | Qty   | UM   | Net price   | Net worth   | VAT [%]   | Gross worth   |\n",
      "|-------|---------------------------------------------------------------------------------|-------|------|-------------|-------------|-----------|---------------|\n",
      "|     1 | Round Indian Braided Jute Carpet | Hand Woven Brown Round Shape Living Room Rug | 5,00  | each | 49,99       | 249,95      | 10%       | 274,95        |\n",
      "|     2 | Cartoon Rabbit Printed Round Carpet Area Rug Children Play Tent Floor Mat Rug   | 4,00  | each | 177,08      | 708,32      | 10%       | 779,15        |\n",
      "\n",
      "## SUMMARY\n",
      "\n",
      "| VAT [%]   | Net worth   | VAT     | Gross worth   |\n",
      "|-----------|-------------|---------|---------------|\n",
      "| 10%       | 958,27      | 95,83   | 1 054,10      |\n",
      "| Total     | $ 958,27    | $ 95,83 | $ 1 054,10    |\n",
      "\n",
      "<!-- Page 0 - Table 1 -->\n",
      "\n",
      "|   No. | Description                                                                     | Qty   | UM   | Net price   | Net worth   | VAT [%]   | Gross worth   |\n",
      "|------:|:--------------------------------------------------------------------------------|:------|:-----|:------------|:------------|:----------|:--------------|\n",
      "|     1 | Round Indian Braided Jute Carpet | Hand Woven Brown Round Shape Living Room Rug | 5,00  | each | 49,99       | 249,95      | 10%       | 274,95        |\n",
      "|     2 | Cartoon Rabbit Printed Round Carpet Area Rug Children Play Tent Floor Mat Rug   | 4,00  | each | 177,08      | 708,32      | 10%       | 779,15        |\n",
      "\n",
      "<!-- Page 0 - Table 2 -->\n",
      "\n",
      "| VAT [%]   | Net worth   | VAT     | Gross worth   |\n",
      "|:----------|:------------|:--------|:--------------|\n",
      "| 10%       | 958,27      | 95,83   | 1 054,10      |\n",
      "| Total     | $ 958,27    | $ 95,83 | $ 1 054,10    |\n",
      "\n",
      "\n"
     ]
    }
   ],
   "source": [
    "print(both)"
   ]
  },
  {
   "cell_type": "markdown",
   "id": "85f9c8ba-e8f2-4449-b312-e2b388991400",
   "metadata": {},
   "source": [
    "## Utilisation avancée"
   ]
  },
  {
   "cell_type": "markdown",
   "id": "5270c324-b9e6-4add-93b0-bbc0329e34fb",
   "metadata": {},
   "source": [
    "Vous pouvez créer votre propore extrator comme suit:"
   ]
  },
  {
   "cell_type": "code",
   "execution_count": 46,
   "id": "f2a44780-90be-4089-8442-d71eea6fcea9",
   "metadata": {},
   "outputs": [],
   "source": [
    "from papyrus.engine import BaseExtractor, CamelotExtractor, PyPDF2Extractor\n",
    "\n",
    "class CombinedExtractor(BaseExtractor):\n",
    "    def _run_impl(self, file):       \n",
    "        CamelotExtractor().run(file) # appliquer pour les tables\n",
    "        PyPDF2Extractor().run(file) # puis appliquer pypdf2 pour avoir le texte selon ce package\n",
    "        \n",
    "\n",
    "file.extract(content = \"both\", extractor=CombinedExtractor())"
   ]
  },
  {
   "cell_type": "code",
   "execution_count": 47,
   "id": "d3096714-7e1e-47c7-b3d2-fed522fe2724",
   "metadata": {},
   "outputs": [
    {
     "name": "stdout",
     "output_type": "stream",
     "text": [
      "## Invoice no: 95611677\n",
      "\n",
      "Date of issue:\n",
      "\n",
      "Date of issue:\n",
      "\n",
      "07/19/2016\n",
      "\n",
      "## Seller:\n",
      "\n",
      "## Client:\n",
      "\n",
      "Franco Group 796 Arnold Cove Apt. 091 Reginaport, AZ 06940\n",
      "\n",
      "Tax Id: 973-97-5084\n",
      "\n",
      "IBAN: GB95MPFV88552069556163\n",
      "\n",
      "Johnson Group 0693 Robin Mountain Apt. 180 Lake Christina, MI 87634\n",
      "\n",
      "Tax Id: 952-81-0165\n",
      "\n",
      "## ITEMS\n",
      "\n",
      "|   No. | Description                                                                     | Qty   | UM   | Net price   | Net worth   | VAT [%]   | Gross worth   |\n",
      "|-------|---------------------------------------------------------------------------------|-------|------|-------------|-------------|-----------|---------------|\n",
      "|     1 | Round Indian Braided Jute Carpet | Hand Woven Brown Round Shape Living Room Rug | 5,00  | each | 49,99       | 249,95      | 10%       | 274,95        |\n",
      "|     2 | Cartoon Rabbit Printed Round Carpet Area Rug Children Play Tent Floor Mat Rug   | 4,00  | each | 177,08      | 708,32      | 10%       | 779,15        |\n",
      "\n",
      "## SUMMARY\n",
      "\n",
      "| VAT [%]   | Net worth   | VAT     | Gross worth   |\n",
      "|-----------|-------------|---------|---------------|\n",
      "| 10%       | 958,27      | 95,83   | 1 054,10      |\n",
      "| Total     | $ 958,27    | $ 95,83 | $ 1 054,10    |\n"
     ]
    }
   ],
   "source": [
    "text = file.export(format='text', content='text')\n",
    "print(text)"
   ]
  },
  {
   "cell_type": "code",
   "execution_count": 48,
   "id": "2c3f4920-bfab-4746-8e36-7a3c2bd41b0d",
   "metadata": {},
   "outputs": [
    {
     "name": "stdout",
     "output_type": "stream",
     "text": [
      "<!-- Page 0 - Table 1 -->\n",
      "\n",
      "|   No. | Description                                                                     | Qty   | UM   | Net price   | Net worth   | VAT [%]   | Gross worth   |\n",
      "|------:|:--------------------------------------------------------------------------------|:------|:-----|:------------|:------------|:----------|:--------------|\n",
      "|     1 | Round Indian Braided Jute Carpet | Hand Woven Brown Round Shape Living Room Rug | 5,00  | each | 49,99       | 249,95      | 10%       | 274,95        |\n",
      "|     2 | Cartoon Rabbit Printed Round Carpet Area Rug Children Play Tent Floor Mat Rug   | 4,00  | each | 177,08      | 708,32      | 10%       | 779,15        |\n",
      "\n",
      "\n",
      "\n",
      "<!-- Page 0 - Table 2 -->\n",
      "\n",
      "| VAT [%]   | Net worth   | VAT     | Gross worth   |\n",
      "|:----------|:------------|:--------|:--------------|\n",
      "| 10%       | 958,27      | 95,83   | 1 054,10      |\n",
      "| Total     | $ 958,27    | $ 95,83 | $ 1 054,10    |\n",
      "\n",
      "\n"
     ]
    }
   ],
   "source": [
    "tables = file.export(format='md', content='tables')\n",
    "print(tables)"
   ]
  },
  {
   "cell_type": "markdown",
   "id": "1e0ef1e9-73f2-46cd-9dd4-2cc363cc1ba7",
   "metadata": {},
   "source": [
    "## Comparaison l'extraction de deux extractor"
   ]
  },
  {
   "cell_type": "markdown",
   "id": "fc1d4b1d-1a4c-49a9-8ea7-6f3e424bac6f",
   "metadata": {},
   "source": [
    "##### Le module difflib de Python permet de comparer efficacement des chaînes de caractères en identifiant leurs similarités et différences. Il est particulièrement utile pour détecter les modifications entre deux textes extraits avec deux extractors différents."
   ]
  },
  {
   "cell_type": "code",
   "execution_count": 49,
   "id": "01cd0bc0-298c-40ec-a6af-4f5c71d7a9e5",
   "metadata": {},
   "outputs": [],
   "source": [
    "from papyrus.engine import DoclingExtractor"
   ]
  },
  {
   "cell_type": "code",
   "execution_count": 50,
   "id": "09dc0027-5e96-4ac8-a27c-dd60df6a4f9c",
   "metadata": {},
   "outputs": [],
   "source": [
    "from papyrus.engine import PyPDF2Extractor\n",
    "from papyrus.core import File"
   ]
  },
  {
   "cell_type": "code",
   "execution_count": 51,
   "id": "0439c090-3ead-4eca-aba2-c6651fe5403f",
   "metadata": {},
   "outputs": [
    {
     "name": "stderr",
     "output_type": "stream",
     "text": [
      "  % Total    % Received % Xferd  Average Speed   Time    Time     Time  Current\n",
      "                                 Dload  Upload   Total   Spent    Left  Speed\n",
      "\n",
      "  0     0    0     0    0     0      0      0 --:--:-- --:--:-- --:--:--     0\n",
      "  0     0    0     0    0     0      0      0 --:--:-- --:--:-- --:--:--     0\n",
      "  0     0    0     0    0     0      0      0 --:--:-- --:--:-- --:--:--     0\n",
      "\n",
      "100 45009  100 45009    0     0   119k      0 --:--:-- --:--:-- --:--:--  119k\n"
     ]
    }
   ],
   "source": [
    "!curl -L -o invoice_100.pdf \"https://github.com/katanaml/sparrow-donut/raw/main/sparrow-data/docs/input/invoices/Dataset%20with%20valid%20information/invoice_100.pdf\"\n",
    "file_path = \"invoice_100.pdf\""
   ]
  },
  {
   "cell_type": "raw",
   "id": "f9006cd2-116f-4583-8b08-d1cf62bf0f34",
   "metadata": {},
   "source": [
    "file = File(file_path)"
   ]
  },
  {
   "cell_type": "code",
   "execution_count": 52,
   "id": "6c98d639-1ba9-448a-bcf5-61c4e486d2d4",
   "metadata": {},
   "outputs": [
    {
     "name": "stderr",
     "output_type": "stream",
     "text": [
      "C:\\Users\\Fatma\\Desktop\\Projets\\papyrus\\.venv1\\Lib\\site-packages\\numpy\\_core\\fromnumeric.py:3860: RuntimeWarning: Mean of empty slice.\n",
      "  return _methods._mean(a, axis=axis, dtype=dtype,\n",
      "C:\\Users\\Fatma\\Desktop\\Projets\\papyrus\\.venv1\\Lib\\site-packages\\numpy\\_core\\_methods.py:145: RuntimeWarning: invalid value encountered in scalar divide\n",
      "  ret = ret.dtype.type(ret / rcount)\n",
      "C:\\Users\\Fatma\\Desktop\\Projets\\papyrus\\.venv1\\Lib\\site-packages\\docling\\pipeline\\standard_pdf_pipeline.py:262: RuntimeWarning: Mean of empty slice\n",
      "  np.nanmean(\n",
      "C:\\Users\\Fatma\\Desktop\\Projets\\papyrus\\.venv1\\Lib\\site-packages\\docling\\pipeline\\standard_pdf_pipeline.py:267: RuntimeWarning: Mean of empty slice\n",
      "  np.nanmean(\n",
      "Parameter `strict_text` has been deprecated and will be ignored.\n"
     ]
    }
   ],
   "source": [
    "file.extract(content='all', extractor=DoclingExtractor())\n",
    "text1 = file.text"
   ]
  },
  {
   "cell_type": "code",
   "execution_count": 53,
   "id": "acb4ed06-8380-4a2b-82cc-7021f6d1e9b2",
   "metadata": {},
   "outputs": [],
   "source": [
    "file.extract(content='all', extractor=PyPDF2Extractor())\n",
    "text2 = file.text"
   ]
  },
  {
   "cell_type": "code",
   "execution_count": 54,
   "id": "e6f1216e-6e2e-45fb-8a05-3943881252d7",
   "metadata": {},
   "outputs": [],
   "source": [
    "from difflib import HtmlDiff"
   ]
  },
  {
   "cell_type": "code",
   "execution_count": 55,
   "id": "1e8b4fb4-65a7-44cd-8757-7e0a56743d26",
   "metadata": {},
   "outputs": [],
   "source": [
    "diff = HtmlDiff().make_file(text1.splitlines(), text2.splitlines(), \"text1\", \"text2\")\n",
    "\n",
    "with open(\"diff.html\", \"w\") as f:\n",
    "    f.write(diff)"
   ]
  }
 ],
 "metadata": {
  "kernelspec": {
   "display_name": "Python 3 (ipykernel)",
   "language": "python",
   "name": "python3"
  },
  "language_info": {
   "codemirror_mode": {
    "name": "ipython",
    "version": 3
   },
   "file_extension": ".py",
   "mimetype": "text/x-python",
   "name": "python",
   "nbconvert_exporter": "python",
   "pygments_lexer": "ipython3",
   "version": "3.12.4"
  }
 },
 "nbformat": 4,
 "nbformat_minor": 5
}

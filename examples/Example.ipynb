{
 "cells": [
  {
   "cell_type": "code",
   "execution_count": 3,
   "id": "0ad3ca24-c625-4b23-889a-873af9c54fc7",
   "metadata": {},
   "outputs": [],
   "source": [
    "from papyrus import engine\n"
   ]
  },
  {
   "cell_type": "code",
   "execution_count": 5,
   "id": "d0939fde-d8be-4241-afaa-beff969affad",
   "metadata": {},
   "outputs": [],
   "source": [
    "from papyrus.core import PapyrusExtractor"
   ]
  },
  {
   "cell_type": "code",
   "execution_count": 2,
   "id": "04091328-33c0-4366-9698-d66e08fd2b60",
   "metadata": {},
   "outputs": [
    {
     "name": "stdout",
     "output_type": "stream",
     "text": [
      "C:\\Users\\Fatma\\Desktop\\Projets\\papyrus\n"
     ]
    }
   ],
   "source": [
    "cd C:\\Users\\Fatma\\Desktop\\Projets\\papyrus"
   ]
  },
  {
   "cell_type": "markdown",
   "id": "4e2d4b22-84a6-4dc8-9da0-2e9af9cde6b3",
   "metadata": {},
   "source": [
    "### Download an open source pdf for testing"
   ]
  },
  {
   "cell_type": "code",
   "execution_count": 6,
   "id": "39c6cce9-6dc3-4946-a316-e544799c7a2c",
   "metadata": {},
   "outputs": [
    {
     "name": "stderr",
     "output_type": "stream",
     "text": [
      "  % Total    % Received % Xferd  Average Speed   Time    Time     Time  Current\n",
      "                                 Dload  Upload   Total   Spent    Left  Speed\n",
      "\n",
      "  0     0    0     0    0     0      0      0 --:--:-- --:--:-- --:--:--     0\n",
      "  0     0    0     0    0     0      0      0 --:--:-- --:--:-- --:--:--     0\n",
      "\n",
      "  0     0    0     0    0     0      0      0 --:--:-- --:--:-- --:--:--     0\n",
      "100 45009  100 45009    0     0  56914      0 --:--:-- --:--:-- --:--:--  171k\n"
     ]
    }
   ],
   "source": [
    "!curl -L -o invoice_100.pdf \"https://github.com/katanaml/sparrow-donut/raw/main/sparrow-data/docs/input/invoices/Dataset%20with%20valid%20information/invoice_100.pdf\"\n",
    "file_path = \"invoice_100.pdf\""
   ]
  },
  {
   "cell_type": "markdown",
   "id": "d224d226-465d-4f35-9de5-b9e10c24ae3b",
   "metadata": {},
   "source": [
    "# PDFPlumber extractor"
   ]
  },
  {
   "cell_type": "markdown",
   "id": "cb2e1916-6578-4ee4-aa6c-0e27df484d46",
   "metadata": {},
   "source": [
    "### The available extractors that you can use in papyrus are:  pdfplumber, pymupdf, pypdf2, camelot, docling."
   ]
  },
  {
   "cell_type": "markdown",
   "id": "d94a5a34-22f2-4d6c-8ce6-3428c7537743",
   "metadata": {},
   "source": [
    "### Extract text only "
   ]
  },
  {
   "cell_type": "code",
   "execution_count": 12,
   "id": "c2a75d5e-34cf-4f14-af76-6ed7f883192e",
   "metadata": {},
   "outputs": [
    {
     "name": "stderr",
     "output_type": "stream",
     "text": [
      "CropBox missing from /Page, defaulting to MediaBox\n",
      "CropBox missing from /Page, defaulting to MediaBox\n"
     ]
    }
   ],
   "source": [
    "papyrus_extractor = PapyrusExtractor(\"pdfplumber\")\n",
    "text = papyrus_extractor.get_text(file_path)"
   ]
  },
  {
   "cell_type": "markdown",
   "id": "b73eeb90-bdfa-45e8-837a-5b0aadc676a4",
   "metadata": {},
   "source": [
    "##### Print the result"
   ]
  },
  {
   "cell_type": "code",
   "execution_count": 13,
   "id": "9db59bd8-b245-489b-99d0-8d1600a4f2bd",
   "metadata": {},
   "outputs": [
    {
     "name": "stdout",
     "output_type": "stream",
     "text": [
      "Invoice no: 95611677\n",
      "Date of issue: 07/19/2016\n",
      "Seller: Client:\n",
      "Franco Group Johnson Group\n",
      "796 Arnold Cove Apt. 091 0693 Robin Mountain Apt. 180\n",
      "Reginaport, AZ 06940 Lake Christina, MI 87634\n",
      "Tax Id: 973-97-5084 Tax Id: 952-81-0165\n",
      "IBAN: GB95MPFV88552069556163\n",
      "ITEMS\n",
      "SUMMARY\n",
      "\n",
      "\n"
     ]
    }
   ],
   "source": [
    "print(text)"
   ]
  },
  {
   "cell_type": "markdown",
   "id": "27ddaa6a-9565-4267-9288-ef04f82c50eb",
   "metadata": {},
   "source": [
    "### Extract only tables"
   ]
  },
  {
   "cell_type": "markdown",
   "id": "8fdb047b-c3af-4527-8a34-3c080223c16a",
   "metadata": {},
   "source": [
    "##### PDFPlumber allows to extract tables"
   ]
  },
  {
   "cell_type": "code",
   "execution_count": 14,
   "id": "85d20830-632f-4e01-9fe1-a088faba1e3c",
   "metadata": {},
   "outputs": [
    {
     "name": "stderr",
     "output_type": "stream",
     "text": [
      "CropBox missing from /Page, defaulting to MediaBox\n",
      "CropBox missing from /Page, defaulting to MediaBox\n"
     ]
    }
   ],
   "source": [
    "tables = papyrus_extractor.get_tables(file_path)"
   ]
  },
  {
   "cell_type": "code",
   "execution_count": 15,
   "id": "4734d549-1003-4118-afb5-e7e643f6f9c5",
   "metadata": {},
   "outputs": [
    {
     "name": "stdout",
     "output_type": "stream",
     "text": [
      "[                                                   0\n",
      "0  No. Description Qty UM Net price Net worth VAT...\n",
      "1  1. Round Indian Braided Jute 5,00 each 49,99 2...\n",
      "2  2. Cartoon Rabbit Printed Round 4,00 each 177,...]\n"
     ]
    }
   ],
   "source": [
    "print(tables)"
   ]
  },
  {
   "cell_type": "markdown",
   "id": "67419393-ca2d-4613-825f-7ccc4b6594a2",
   "metadata": {},
   "source": [
    "### Extract both text and tables "
   ]
  },
  {
   "cell_type": "code",
   "execution_count": 16,
   "id": "0b5adb26-22b1-467a-a5d2-b69d84e99047",
   "metadata": {},
   "outputs": [
    {
     "name": "stderr",
     "output_type": "stream",
     "text": [
      "CropBox missing from /Page, defaulting to MediaBox\n",
      "CropBox missing from /Page, defaulting to MediaBox\n"
     ]
    }
   ],
   "source": [
    "text_tables = papyrus_extractor.get_all(file_path)"
   ]
  },
  {
   "cell_type": "code",
   "execution_count": 17,
   "id": "c1b9e402-9cce-4096-ba8b-d9822b1402d1",
   "metadata": {},
   "outputs": [
    {
     "name": "stdout",
     "output_type": "stream",
     "text": [
      "[                                                   0\n",
      "0  No. Description Qty UM Net price Net worth VAT...\n",
      "1  1. Round Indian Braided Jute 5,00 each 49,99 2...\n",
      "2  2. Cartoon Rabbit Printed Round 4,00 each 177,...]\n"
     ]
    }
   ],
   "source": [
    "print(text_tables)"
   ]
  },
  {
   "cell_type": "markdown",
   "id": "3ebac8a2-6f71-405d-bda8-0634d4f9cba5",
   "metadata": {},
   "source": [
    "# Docling extractor"
   ]
  },
  {
   "cell_type": "markdown",
   "id": "8b728143-f855-47ca-ae35-432fec7d13fa",
   "metadata": {},
   "source": [
    "### Extract text only"
   ]
  },
  {
   "cell_type": "code",
   "execution_count": 18,
   "id": "33bb26aa-3deb-4001-a32d-67371dd0e568",
   "metadata": {},
   "outputs": [
    {
     "name": "stderr",
     "output_type": "stream",
     "text": [
      "C:\\Users\\Fatma\\Desktop\\Projets\\papyrus\\.venv1\\Lib\\site-packages\\numpy\\_core\\fromnumeric.py:3860: RuntimeWarning: Mean of empty slice.\n",
      "  return _methods._mean(a, axis=axis, dtype=dtype,\n",
      "C:\\Users\\Fatma\\Desktop\\Projets\\papyrus\\.venv1\\Lib\\site-packages\\numpy\\_core\\_methods.py:145: RuntimeWarning: invalid value encountered in scalar divide\n",
      "  ret = ret.dtype.type(ret / rcount)\n",
      "C:\\Users\\Fatma\\Desktop\\Projets\\papyrus\\.venv1\\Lib\\site-packages\\docling\\pipeline\\standard_pdf_pipeline.py:262: RuntimeWarning: Mean of empty slice\n",
      "  np.nanmean(\n",
      "C:\\Users\\Fatma\\Desktop\\Projets\\papyrus\\.venv1\\Lib\\site-packages\\docling\\pipeline\\standard_pdf_pipeline.py:267: RuntimeWarning: Mean of empty slice\n",
      "  np.nanmean(\n",
      "Parameter `strict_text` has been deprecated and will be ignored.\n"
     ]
    }
   ],
   "source": [
    "papyrus_extractor = PapyrusExtractor(\"docling\")\n",
    "text = papyrus_extractor.get_text(file_path)"
   ]
  },
  {
   "cell_type": "code",
   "execution_count": 19,
   "id": "b58e1575-8970-40f3-93f5-513c1e843f44",
   "metadata": {},
   "outputs": [
    {
     "name": "stdout",
     "output_type": "stream",
     "text": [
      "## Invoice no: 95611677\n",
      "\n",
      "Date of issue:\n",
      "\n",
      "Date of issue:\n",
      "\n",
      "07/19/2016\n",
      "\n",
      "## Seller:\n",
      "\n",
      "## Client:\n",
      "\n",
      "Franco Group 796 Arnold Cove Apt. 091 Reginaport, AZ 06940\n",
      "\n",
      "Tax Id: 973-97-5084\n",
      "\n",
      "IBAN: GB95MPFV88552069556163\n",
      "\n",
      "Johnson Group 0693 Robin Mountain Apt. 180 Lake Christina, MI 87634\n",
      "\n",
      "Tax Id: 952-81-0165\n",
      "\n",
      "## ITEMS\n",
      "\n",
      "|   No. | Description                                                                     | Qty   | UM   | Net price   | Net worth   | VAT [%]   | Gross worth   |\n",
      "|-------|---------------------------------------------------------------------------------|-------|------|-------------|-------------|-----------|---------------|\n",
      "|     1 | Round Indian Braided Jute Carpet | Hand Woven Brown Round Shape Living Room Rug | 5,00  | each | 49,99       | 249,95      | 10%       | 274,95        |\n",
      "|     2 | Cartoon Rabbit Printed Round Carpet Area Rug Children Play Tent Floor Mat Rug   | 4,00  | each | 177,08      | 708,32      | 10%       | 779,15        |\n",
      "\n",
      "## SUMMARY\n",
      "\n",
      "| VAT [%]   | Net worth   | VAT     | Gross worth   |\n",
      "|-----------|-------------|---------|---------------|\n",
      "| 10%       | 958,27      | 95,83   | 1 054,10      |\n",
      "| Total     | $ 958,27    | $ 95,83 | $ 1 054,10    |\n"
     ]
    }
   ],
   "source": [
    "print(text)"
   ]
  },
  {
   "cell_type": "markdown",
   "id": "3e2e6a44-3628-4ea9-b08e-387b2a11afd4",
   "metadata": {},
   "source": [
    "### Extract tables only"
   ]
  },
  {
   "cell_type": "code",
   "execution_count": 20,
   "id": "186d2842-0015-494b-ba93-5a451e983d15",
   "metadata": {},
   "outputs": [],
   "source": [
    "tables=papyrus_extractor.get_tables(file_path)"
   ]
  },
  {
   "cell_type": "code",
   "execution_count": 21,
   "id": "25d8679e-c4c5-4772-86ec-879e96efa585",
   "metadata": {},
   "outputs": [
    {
     "name": "stdout",
     "output_type": "stream",
     "text": [
      "[  No.                                        Description   Qty    UM  \\\n",
      "0  1.  Round Indian Braided Jute Carpet | Hand Woven ...  5,00  each   \n",
      "1  2.  Cartoon Rabbit Printed Round Carpet Area Rug C...  4,00  each   \n",
      "\n",
      "  Net price Net worth VAT [%] Gross worth  \n",
      "0     49,99    249,95     10%      274,95  \n",
      "1    177,08    708,32     10%      779,15  ,   VAT [%] Net worth      VAT Gross worth\n",
      "0     10%    958,27    95,83    1 054,10\n",
      "1   Total  $ 958,27  $ 95,83  $ 1 054,10]\n"
     ]
    }
   ],
   "source": [
    "print(tables)"
   ]
  },
  {
   "cell_type": "markdown",
   "id": "e95bba3a-3390-406e-a482-54cdda064a76",
   "metadata": {},
   "source": [
    "### Extract Both"
   ]
  },
  {
   "cell_type": "code",
   "execution_count": 22,
   "id": "502c9baa-f06d-49f2-a12f-59b14a75c0f0",
   "metadata": {},
   "outputs": [
    {
     "name": "stderr",
     "output_type": "stream",
     "text": [
      "C:\\Users\\Fatma\\Desktop\\Projets\\papyrus\\.venv1\\Lib\\site-packages\\numpy\\_core\\fromnumeric.py:3860: RuntimeWarning: Mean of empty slice.\n",
      "  return _methods._mean(a, axis=axis, dtype=dtype,\n",
      "C:\\Users\\Fatma\\Desktop\\Projets\\papyrus\\.venv1\\Lib\\site-packages\\numpy\\_core\\_methods.py:145: RuntimeWarning: invalid value encountered in scalar divide\n",
      "  ret = ret.dtype.type(ret / rcount)\n",
      "C:\\Users\\Fatma\\Desktop\\Projets\\papyrus\\.venv1\\Lib\\site-packages\\docling\\pipeline\\standard_pdf_pipeline.py:262: RuntimeWarning: Mean of empty slice\n",
      "  np.nanmean(\n",
      "C:\\Users\\Fatma\\Desktop\\Projets\\papyrus\\.venv1\\Lib\\site-packages\\docling\\pipeline\\standard_pdf_pipeline.py:267: RuntimeWarning: Mean of empty slice\n",
      "  np.nanmean(\n"
     ]
    }
   ],
   "source": [
    "text_tables = papyrus_extractor.get_all(file_path)"
   ]
  },
  {
   "cell_type": "code",
   "execution_count": 23,
   "id": "b64ca483-90a2-421a-a2f4-4d7271312890",
   "metadata": {},
   "outputs": [
    {
     "name": "stdout",
     "output_type": "stream",
     "text": [
      "[  No.                                        Description   Qty    UM  \\\n",
      "0  1.  Round Indian Braided Jute Carpet | Hand Woven ...  5,00  each   \n",
      "1  2.  Cartoon Rabbit Printed Round Carpet Area Rug C...  4,00  each   \n",
      "\n",
      "  Net price Net worth VAT [%] Gross worth  \n",
      "0     49,99    249,95     10%      274,95  \n",
      "1    177,08    708,32     10%      779,15  ,   VAT [%] Net worth      VAT Gross worth\n",
      "0     10%    958,27    95,83    1 054,10\n",
      "1   Total  $ 958,27  $ 95,83  $ 1 054,10]\n"
     ]
    }
   ],
   "source": [
    "print(text_tables)"
   ]
  },
  {
   "cell_type": "markdown",
   "id": "74c47069-f397-4604-b950-8d6f5ef305c6",
   "metadata": {},
   "source": [
    "# PyMuPDF Extractor"
   ]
  },
  {
   "cell_type": "code",
   "execution_count": 24,
   "id": "f2c9e431-3d2c-4820-addd-e51834a4592b",
   "metadata": {},
   "outputs": [],
   "source": [
    "papyrus_extractor = PapyrusExtractor('pypdf2')"
   ]
  },
  {
   "cell_type": "markdown",
   "id": "c391a934-6a93-4053-9356-ecad0f828d64",
   "metadata": {},
   "source": [
    "##### PyMuPDF Extractor allows only text extraction."
   ]
  },
  {
   "cell_type": "code",
   "execution_count": 25,
   "id": "2df2321a-9c88-4aa3-a263-e6f2f3990a4e",
   "metadata": {},
   "outputs": [],
   "source": [
    "text = papyrus_extractor.get_text(file_path)"
   ]
  },
  {
   "cell_type": "code",
   "execution_count": 26,
   "id": "c0977469-5da4-4a8d-a970-408fffd98d9b",
   "metadata": {},
   "outputs": [
    {
     "name": "stdout",
     "output_type": "stream",
     "text": [
      "Invoice no: 95611677\n",
      "Date of issue:\n",
      "07/19/2016\n",
      "Seller:\n",
      "Franco Group\n",
      "796 Arnold Cove Apt. 091\n",
      "Reginaport, AZ 06940\n",
      "Tax Id: 973-97-5084\n",
      "IBAN: GB95MPFV88552069556163\n",
      "Client:\n",
      "Johnson Group\n",
      "0693 Robin Mountain Apt. 180\n",
      "Lake Christina, MI 87634\n",
      "Tax Id: 952-81-0165\n",
      "ITEMS\n",
      "No.\n",
      "Description\n",
      "Qty\n",
      "UM\n",
      "Net price\n",
      "Net worth\n",
      "VAT [%]\n",
      "Gross\n",
      "worth\n",
      " \n",
      "Round Indian Braided Jute\n",
      "Carpet | Hand Woven Brown\n",
      "Round Shape Living Room Rug\n",
      "1.\n",
      "5,00\n",
      "each\n",
      "49,99\n",
      " 249,95\n",
      " 10%\n",
      " 274,95\n",
      " \n",
      "Cartoon Rabbit Printed Round\n",
      "Carpet Area Rug Children Play\n",
      "Tent Floor Mat Rug\n",
      "2.\n",
      "4,00\n",
      "each\n",
      "177,08\n",
      " 708,32\n",
      " 10%\n",
      " 779,15\n",
      " \n",
      "SUMMARY\n",
      "VAT [%]\n",
      " Net worth\n",
      " VAT\n",
      " Gross worth\n",
      " \n",
      "10%\n",
      " 958,27\n",
      " 95,83\n",
      " 1 054,10\n",
      " \n",
      " Total\n",
      " $ 958,27\n",
      " $ 95,83\n",
      " $ 1 054,10\n",
      "\n",
      "\n"
     ]
    }
   ],
   "source": [
    "print(text)"
   ]
  },
  {
   "cell_type": "code",
   "execution_count": 39,
   "id": "15351eca-d133-49f3-a3b8-8becca97dcd7",
   "metadata": {},
   "outputs": [
    {
     "name": "stdout",
     "output_type": "stream",
     "text": [
      "Invoice no: 95611677\n",
      "Date of issue:\n",
      "07/19/2016\n",
      "Seller:\n",
      "Franco Group\n",
      "796 Arnold Cove Apt. 091\n",
      "Reginaport, AZ 06940\n",
      "Tax Id: 973-97-5084\n",
      "IBAN: GB95MPFV88552069556163\n",
      "Client:\n",
      "Johnson Group\n",
      "0693 Robin Mountain Apt. 180\n",
      "Lake Christina, MI 87634\n",
      "Tax Id: 952-81-0165\n",
      "ITEMS\n",
      "No.\n",
      "Description\n",
      "Qty\n",
      "UM\n",
      "Net price\n",
      "Net worth\n",
      "VAT [%]\n",
      "Gross\n",
      "worth\n",
      "Round Indian Braided Jute\n",
      "Carpet | Hand Woven Brown\n",
      "Round Shape Living Room Rug\n",
      "1.\n",
      "5,00\n",
      "each\n",
      "49,99\n",
      "249,95\n",
      "10%\n",
      "274,95\n",
      "Cartoon Rabbit Printed Round\n",
      "Carpet Area Rug Children Play\n",
      "Tent Floor Mat Rug\n",
      "2.\n",
      "4,00\n",
      "each\n",
      "177,08\n",
      "708,32\n",
      "10%\n",
      "779,15\n",
      "SUMMARY\n",
      "VAT [%]\n",
      "Net worth\n",
      "VAT\n",
      "Gross worth\n",
      "10%\n",
      "958,27\n",
      "95,83\n",
      "1 054,10\n",
      "Total\n",
      "$ 958,27\n",
      "$ 95,83\n",
      "$ 1 054,10\n"
     ]
    }
   ],
   "source": [
    "text =file.export(format=\"text\", content='text')\n",
    "print(text)"
   ]
  },
  {
   "cell_type": "code",
   "execution_count": 45,
   "id": "12c14734-0a03-455f-b909-7074c0ba0066",
   "metadata": {},
   "outputs": [
    {
     "name": "stdout",
     "output_type": "stream",
     "text": [
      "## Invoice no: 95611677\n",
      "\n",
      "Date of issue:\n",
      "\n",
      "Date of issue:\n",
      "\n",
      "07/19/2016\n",
      "\n",
      "## Seller:\n",
      "\n",
      "## Client:\n",
      "\n",
      "Franco Group 796 Arnold Cove Apt. 091 Reginaport, AZ 06940\n",
      "\n",
      "Tax Id: 973-97-5084\n",
      "\n",
      "IBAN: GB95MPFV88552069556163\n",
      "\n",
      "Johnson Group 0693 Robin Mountain Apt. 180 Lake Christina, MI 87634\n",
      "\n",
      "Tax Id: 952-81-0165\n",
      "\n",
      "## ITEMS\n",
      "\n",
      "|   No. | Description                                                                     | Qty   | UM   | Net price   | Net worth   | VAT [%]   | Gross worth   |\n",
      "|-------|---------------------------------------------------------------------------------|-------|------|-------------|-------------|-----------|---------------|\n",
      "|     1 | Round Indian Braided Jute Carpet | Hand Woven Brown Round Shape Living Room Rug | 5,00  | each | 49,99       | 249,95      | 10%       | 274,95        |\n",
      "|     2 | Cartoon Rabbit Printed Round Carpet Area Rug Children Play Tent Floor Mat Rug   | 4,00  | each | 177,08      | 708,32      | 10%       | 779,15        |\n",
      "\n",
      "## SUMMARY\n",
      "\n",
      "| VAT [%]   | Net worth   | VAT     | Gross worth   |\n",
      "|-----------|-------------|---------|---------------|\n",
      "| 10%       | 958,27      | 95,83   | 1 054,10      |\n",
      "| Total     | $ 958,27    | $ 95,83 | $ 1 054,10    |\n",
      "\n",
      "<!-- Page 0 - Table 1 -->\n",
      "\n",
      "|   No. | Description                                                                     | Qty   | UM   | Net price   | Net worth   | VAT [%]   | Gross worth   |\n",
      "|------:|:--------------------------------------------------------------------------------|:------|:-----|:------------|:------------|:----------|:--------------|\n",
      "|     1 | Round Indian Braided Jute Carpet | Hand Woven Brown Round Shape Living Room Rug | 5,00  | each | 49,99       | 249,95      | 10%       | 274,95        |\n",
      "|     2 | Cartoon Rabbit Printed Round Carpet Area Rug Children Play Tent Floor Mat Rug   | 4,00  | each | 177,08      | 708,32      | 10%       | 779,15        |\n",
      "\n",
      "<!-- Page 0 - Table 2 -->\n",
      "\n",
      "| VAT [%]   | Net worth   | VAT     | Gross worth   |\n",
      "|:----------|:------------|:--------|:--------------|\n",
      "| 10%       | 958,27      | 95,83   | 1 054,10      |\n",
      "| Total     | $ 958,27    | $ 95,83 | $ 1 054,10    |\n",
      "\n",
      "\n"
     ]
    }
   ],
   "source": [
    "print(both)"
   ]
  },
  {
   "cell_type": "markdown",
   "id": "7eec7c26-ec81-4eed-b293-b28bd62346fa",
   "metadata": {},
   "source": [
    "# CamelotExtrator"
   ]
  },
  {
   "cell_type": "markdown",
   "id": "3d77059c-a59f-44ec-a8f5-903d9da22087",
   "metadata": {},
   "source": [
    "#### CamelotExtractor extracts only tables"
   ]
  },
  {
   "cell_type": "code",
   "execution_count": 30,
   "id": "fb4c6fa5-643a-4664-8af0-f8eb4f1ca172",
   "metadata": {},
   "outputs": [],
   "source": [
    "papyrus_extractor = PapyrusExtractor(\"camelot\")"
   ]
  },
  {
   "cell_type": "code",
   "execution_count": 34,
   "id": "896111a0-2d44-4a06-8354-171cc7058eb9",
   "metadata": {},
   "outputs": [
    {
     "name": "stderr",
     "output_type": "stream",
     "text": [
      "CropBox missing from /Page, defaulting to MediaBox\n"
     ]
    }
   ],
   "source": [
    "tables =papyrus_extractor.get_tables(file_path)"
   ]
  },
  {
   "cell_type": "code",
   "execution_count": 36,
   "id": "84471ed2-74e0-4f02-ade1-0b67d1ad6bb1",
   "metadata": {},
   "outputs": [
    {
     "data": {
      "text/plain": [
       "[                              0                             1\n",
       " 0                       Seller:                       Client:\n",
       " 1                  Franco Group                 Johnson Group\n",
       " 2      796 Arnold Cove Apt. 091  0693 Robin Mountain Apt. 180\n",
       " 3          Reginaport, AZ 06940      Lake Christina, MI 87634\n",
       " 4           Tax Id: 973-97-5084           Tax Id: 952-81-0165\n",
       " 5  IBAN: GB95MPFV88552069556163                              ,\n",
       "        0                              1     2     3          4          5  \\\n",
       " 0  ITEMS                                                                    \n",
       " 1    No.                    Description   Qty    UM  Net price  Net worth   \n",
       " 2                                                                           \n",
       " 3     1.      Round Indian Braided Jute  5,00  each      49,99     249,95   \n",
       " 4             Carpet | Hand Woven Brown                                     \n",
       " 5           Round Shape Living Room Rug                                     \n",
       " 6     2.   Cartoon Rabbit Printed Round  4,00  each     177,08     708,32   \n",
       " 7         Carpet Area Rug Children Play                                     \n",
       " 8                    Tent Floor Mat Rug                                     \n",
       " \n",
       "          6       7  \n",
       " 0                   \n",
       " 1  VAT [%]   Gross  \n",
       " 2            worth  \n",
       " 3      10%  274,95  \n",
       " 4                   \n",
       " 5                   \n",
       " 6      10%  779,15  \n",
       " 7                   \n",
       " 8                   ]"
      ]
     },
     "execution_count": 36,
     "metadata": {},
     "output_type": "execute_result"
    }
   ],
   "source": [
    "tables"
   ]
  },
  {
   "cell_type": "markdown",
   "id": "5270c324-b9e6-4add-93b0-bbc0329e34fb",
   "metadata": {},
   "source": [
    "Vous pouvez créer votre propore extrator comme suit:"
   ]
  },
  {
   "cell_type": "markdown",
   "id": "1e0ef1e9-73f2-46cd-9dd4-2cc363cc1ba7",
   "metadata": {},
   "source": [
    "## Comparaison l'extraction de deux extractor"
   ]
  },
  {
   "cell_type": "markdown",
   "id": "fc1d4b1d-1a4c-49a9-8ea7-6f3e424bac6f",
   "metadata": {},
   "source": [
    "##### Le module difflib de Python permet de comparer efficacement des chaînes de caractères en identifiant leurs similarités et différences. Il est particulièrement utile pour détecter les modifications entre deux textes extraits avec deux extractors différents."
   ]
  },
  {
   "cell_type": "code",
   "execution_count": 37,
   "id": "6c98d639-1ba9-448a-bcf5-61c4e486d2d4",
   "metadata": {},
   "outputs": [],
   "source": [
    "papyrus_docling = PapyrusExtractor('docling')\n",
    "papyrus_pypdf2 = PapyrusExtractor(\"pypdf2\")"
   ]
  },
  {
   "cell_type": "code",
   "execution_count": 38,
   "id": "acb4ed06-8380-4a2b-82cc-7021f6d1e9b2",
   "metadata": {},
   "outputs": [
    {
     "name": "stderr",
     "output_type": "stream",
     "text": [
      "C:\\Users\\Fatma\\Desktop\\Projets\\papyrus\\.venv1\\Lib\\site-packages\\numpy\\_core\\fromnumeric.py:3860: RuntimeWarning: Mean of empty slice.\n",
      "  return _methods._mean(a, axis=axis, dtype=dtype,\n",
      "C:\\Users\\Fatma\\Desktop\\Projets\\papyrus\\.venv1\\Lib\\site-packages\\numpy\\_core\\_methods.py:145: RuntimeWarning: invalid value encountered in scalar divide\n",
      "  ret = ret.dtype.type(ret / rcount)\n",
      "C:\\Users\\Fatma\\Desktop\\Projets\\papyrus\\.venv1\\Lib\\site-packages\\docling\\pipeline\\standard_pdf_pipeline.py:262: RuntimeWarning: Mean of empty slice\n",
      "  np.nanmean(\n",
      "C:\\Users\\Fatma\\Desktop\\Projets\\papyrus\\.venv1\\Lib\\site-packages\\docling\\pipeline\\standard_pdf_pipeline.py:267: RuntimeWarning: Mean of empty slice\n",
      "  np.nanmean(\n",
      "Parameter `strict_text` has been deprecated and will be ignored.\n"
     ]
    }
   ],
   "source": [
    "text_docling = papyrus_docling.get_text(file_path)"
   ]
  },
  {
   "cell_type": "code",
   "execution_count": 39,
   "id": "db5f8979-7d88-4a2d-82c9-9f7eddb12670",
   "metadata": {},
   "outputs": [],
   "source": [
    "text_pypdf2 = papyrus_pypdf2.get_text(file_path)"
   ]
  },
  {
   "cell_type": "code",
   "execution_count": 40,
   "id": "e6f1216e-6e2e-45fb-8a05-3943881252d7",
   "metadata": {},
   "outputs": [],
   "source": [
    "from difflib import HtmlDiff"
   ]
  },
  {
   "cell_type": "code",
   "execution_count": 41,
   "id": "1e8b4fb4-65a7-44cd-8757-7e0a56743d26",
   "metadata": {},
   "outputs": [],
   "source": [
    "diff = HtmlDiff().make_file(text_docling.splitlines(), text_pypdf2.splitlines(), \"text_docling\", \"text_pypdf2\")\n",
    "\n",
    "with open(\"diff.html\", \"w\") as f:\n",
    "    f.write(diff)"
   ]
  }
 ],
 "metadata": {
  "kernelspec": {
   "display_name": "Python 3 (ipykernel)",
   "language": "python",
   "name": "python3"
  },
  "language_info": {
   "codemirror_mode": {
    "name": "ipython",
    "version": 3
   },
   "file_extension": ".py",
   "mimetype": "text/x-python",
   "name": "python",
   "nbconvert_exporter": "python",
   "pygments_lexer": "ipython3",
   "version": "3.12.4"
  }
 },
 "nbformat": 4,
 "nbformat_minor": 5
}
